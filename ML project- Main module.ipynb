{
 "cells": [
  {
   "cell_type": "markdown",
   "id": "6f4e120e",
   "metadata": {},
   "source": [
    "# \n",
    "The use of ML algorithms in this project helps the Insurtech to understand the beneficiary's and determine the cost.\n",
    "We want to predict from  if someone will get serious illness like heart attack or strock in the future from the smoking habit.\n",
    "It is possible to use The Randoom Forest model or Logistic Regression model but we decided to go with Randoom Forest\n",
    "Because Random Forest helps us to determine which variable have the most effect or causing on my target."
   ]
  },
  {
   "cell_type": "code",
   "execution_count": 1,
   "id": "0ecc6d28",
   "metadata": {},
   "outputs": [],
   "source": [
    "import numpy as np\n",
    "import pandas as pd\n",
    "from sklearn.ensemble import RandomForestRegressor\n",
    "from sklearn import metrics\n",
    "from sklearn.tree import export_graphviz\n",
    "import pydot"
   ]
  },
  {
   "cell_type": "code",
   "execution_count": 2,
   "id": "81bb535b",
   "metadata": {},
   "outputs": [
    {
     "name": "stdout",
     "output_type": "stream",
     "text": [
      "0       0\n",
      "1       0\n",
      "2       0\n",
      "3       1\n",
      "4       0\n",
      "       ..\n",
      "4231    0\n",
      "4232    1\n",
      "4233    1\n",
      "4234    0\n",
      "4237    0\n",
      "Name: TenYearCHD, Length: 3656, dtype: int64\n",
      "      male  age  education  currentSmoker  cigsPerDay  BPMeds  \\\n",
      "0        1   39        4.0              0         0.0     0.0   \n",
      "1        0   46        2.0              0         0.0     0.0   \n",
      "2        1   48        1.0              1        20.0     0.0   \n",
      "3        0   61        3.0              1        30.0     0.0   \n",
      "4        0   46        3.0              1        23.0     0.0   \n",
      "...    ...  ...        ...            ...         ...     ...   \n",
      "4231     1   58        3.0              0         0.0     0.0   \n",
      "4232     1   68        1.0              0         0.0     0.0   \n",
      "4233     1   50        1.0              1         1.0     0.0   \n",
      "4234     1   51        3.0              1        43.0     0.0   \n",
      "4237     0   52        2.0              0         0.0     0.0   \n",
      "\n",
      "      prevalentStroke  prevalentHyp  diabetes  totChol  sysBP  diaBP    BMI  \\\n",
      "0                   0             0         0    195.0  106.0   70.0  26.97   \n",
      "1                   0             0         0    250.0  121.0   81.0  28.73   \n",
      "2                   0             0         0    245.0  127.5   80.0  25.34   \n",
      "3                   0             1         0    225.0  150.0   95.0  28.58   \n",
      "4                   0             0         0    285.0  130.0   84.0  23.10   \n",
      "...               ...           ...       ...      ...    ...    ...    ...   \n",
      "4231                0             1         0    187.0  141.0   81.0  24.96   \n",
      "4232                0             1         0    176.0  168.0   97.0  23.14   \n",
      "4233                0             1         0    313.0  179.0   92.0  25.97   \n",
      "4234                0             0         0    207.0  126.5   80.0  19.71   \n",
      "4237                0             0         0    269.0  133.5   83.0  21.47   \n",
      "\n",
      "      heartRate  glucose  \n",
      "0          80.0     77.0  \n",
      "1          95.0     76.0  \n",
      "2          75.0     70.0  \n",
      "3          65.0    103.0  \n",
      "4          85.0     85.0  \n",
      "...         ...      ...  \n",
      "4231       80.0     81.0  \n",
      "4232       60.0     79.0  \n",
      "4233       66.0     86.0  \n",
      "4234       65.0     68.0  \n",
      "4237       80.0    107.0  \n",
      "\n",
      "[3656 rows x 15 columns]\n"
     ]
    }
   ],
   "source": [
    "#here we toke our dataset, and then identify our labels which is the issue we tried to know it, 'TenYearCHD' columns\n",
    "\n",
    "features = pd.read_csv('framingham.csv')\n",
    "features = pd.get_dummies(features)\n",
    "features = features.dropna()\n",
    "labels = (features['TenYearCHD'])\n",
    "print(labels)\n",
    "features =  features.drop('TenYearCHD', axis = 1)\n",
    "features_list = list(features.columns)\n",
    "print(features)"
   ]
  },
  {
   "cell_type": "code",
   "execution_count": 3,
   "id": "9d3f8b85",
   "metadata": {},
   "outputs": [
    {
     "name": "stdout",
     "output_type": "stream",
     "text": [
      "0.06089577398607737\n"
     ]
    }
   ],
   "source": [
    "X = features\n",
    "y = labels\n",
    "index = int(0.6*len(X))\n",
    "X_train = X.iloc[:index]\n",
    "X_test = X.iloc[index:]\n",
    "y_train = y[:index]\n",
    "y_test = y[index:]\n",
    "rf = RandomForestRegressor(n_estimators = 1000)\n",
    "rf.fit(X_train,y_train)\n",
    "predictions = rf.predict(X_test)\n",
    "print(rf.score(X_test,y_test))"
   ]
  },
  {
   "cell_type": "code",
   "execution_count": 4,
   "id": "f4443bdc",
   "metadata": {},
   "outputs": [
    {
     "name": "stdout",
     "output_type": "stream",
     "text": [
      "0.84688995215311\n"
     ]
    }
   ],
   "source": [
    "from sklearn.metrics import accuracy_score\n",
    "y_pred = [0 if val <0.5 else 1 for val in predictions]\n",
    "print(accuracy_score(y_test,y_pred))"
   ]
  },
  {
   "cell_type": "code",
   "execution_count": 5,
   "id": "503446e2",
   "metadata": {},
   "outputs": [],
   "source": [
    "tree = rf.estimators_[30]\n",
    "export_graphviz(tree, out_file = 'tree.dot', feature_names = features_list, rounded = True, precision = 1, filled = True)\n",
    "graph = pydot.graph_from_dot_file('tree.dot')\n",
    "graph[0].write_png('tree.png')"
   ]
  },
  {
   "cell_type": "code",
   "execution_count": null,
   "id": "67f79b27",
   "metadata": {},
   "outputs": [],
   "source": []
  }
 ],
 "metadata": {
  "kernelspec": {
   "display_name": "Python 3",
   "language": "python",
   "name": "python3"
  },
  "language_info": {
   "codemirror_mode": {
    "name": "ipython",
    "version": 3
   },
   "file_extension": ".py",
   "mimetype": "text/x-python",
   "name": "python",
   "nbconvert_exporter": "python",
   "pygments_lexer": "ipython3",
   "version": "3.8.8"
  }
 },
 "nbformat": 4,
 "nbformat_minor": 5
}
